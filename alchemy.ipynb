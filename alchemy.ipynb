{
 "cells": [
  {
   "cell_type": "code",
   "id": "initial_id",
   "metadata": {
    "collapsed": true,
    "ExecuteTime": {
     "end_time": "2024-05-22T12:56:08.858547Z",
     "start_time": "2024-05-22T12:56:08.092898Z"
    }
   },
   "source": [
    "from src.database import get_db\n",
    "from pprint import pprint\n",
    "from sqlalchemy import select, and_, func, desc, or_\n",
    "\n",
    "from src.photos.models import Photo\n",
    "from src.tags.models import PhotoToTag, Tag\n",
    "from sqlalchemy.orm import selectinload, joinedload\n",
    "from src.database import async_session_factory\n"
   ],
   "execution_count": 1,
   "outputs": []
  },
  {
   "metadata": {
    "ExecuteTime": {
     "end_time": "2024-05-22T12:56:12.781362Z",
     "start_time": "2024-05-22T12:56:10.808835Z"
    }
   },
   "cell_type": "code",
   "source": [
    "# query = \"tag\"\n",
    "# \n",
    "# statement = (\n",
    "#         select(Photo)\n",
    "#         .join(PhotoToTag, Photo.id == PhotoToTag.photo_id)\n",
    "#         .join(Tag, Tag.id == PhotoToTag.tag_id)\n",
    "#         .where(or_(Tag.name.ilike(f\"%{query}%\"), Photo.title.ilike(f\"%{query}%\")))\n",
    "#         .options(selectinload(Photo.tags))\n",
    "#     )\n",
    "# \n",
    "# async with async_session_factory() as session:\n",
    "#     res = await session.execute(statement)\n",
    "#     pprint(res.scalars().all())\n",
    "\n",
    "# statement = select(func.count(Photo.id))\n",
    "# async with async_session_factory() as session:\n",
    "#     res = await session.execute(statement)\n",
    "#     total = res.scalar()\n",
    "#     print(total)\n",
    "\n",
    "photo_id = 2\n",
    "\n",
    "query = (select(Photo).\n",
    "             where(Photo.id == photo_id).\n",
    "             options(selectinload(Photo.tags))\n",
    "             \n",
    "             )\n",
    "async with async_session_factory() as session:\n",
    "    res = await session.execute(query)\n",
    "    res = res.scalars()\n",
    "    \n",
    "\n",
    "\n"
   ],
   "id": "2adc5f2322d9af43",
   "execution_count": 2,
   "outputs": []
  }
 ],
 "metadata": {
  "kernelspec": {
   "display_name": "Python 3",
   "language": "python",
   "name": "python3"
  },
  "language_info": {
   "codemirror_mode": {
    "name": "ipython",
    "version": 2
   },
   "file_extension": ".py",
   "mimetype": "text/x-python",
   "name": "python",
   "nbconvert_exporter": "python",
   "pygments_lexer": "ipython2",
   "version": "2.7.6"
  }
 },
 "nbformat": 4,
 "nbformat_minor": 5
}
